{
 "cells": [
  {
   "cell_type": "markdown",
   "metadata": {},
   "source": [
    "# <center> Web scraper: getting product information - image and title"
   ]
  },
  {
   "cell_type": "code",
   "execution_count": 1,
   "metadata": {},
   "outputs": [],
   "source": [
    "# Libs import\n",
    "import time\n",
    "import pandas as pd\n",
    "import cv2\n",
    "import matplotlib.pyplot as plt\n",
    "\n",
    "import requests\n",
    "from selenium import webdriver\n",
    "from selenium.webdriver.support.ui import WebDriverWait\n",
    "from selenium.webdriver.support import expected_conditions as EC\n",
    "from selenium.webdriver.common.by import By"
   ]
  },
  {
   "cell_type": "code",
   "execution_count": 2,
   "metadata": {},
   "outputs": [],
   "source": [
    "# Declare global variables - url address of 3 big categories\n",
    "ELECTRONICS = 'https://kazanexpress.ru/category/elektronika-10020'\n",
    "APPLIANCES = 'https://kazanexpress.ru/category/bytovaya-tekhnika-10004'\n",
    "CLOTHES = 'https://kazanexpress.ru/category/odezhda-10014'\n",
    "\n",
    "\n",
    "def get_image_link_and_title(url_address, category_name):\n",
    "    \"\"\"\n",
    "    Function to get images url and products' title\n",
    "    \"\"\"\n",
    "    browser = webdriver.Chrome()\n",
    "    browser.get(url_address)\n",
    "    browser.maximize_window() #maximize_window\n",
    "    browser.execute_script(\"window.scrollTo(0, document.body.scrollHeight);\") # page scrolling \"as real person\"\n",
    "    time.sleep(5) # time for wait\n",
    "    \n",
    "    # Create lists for images url address accordance to product title\n",
    "    product_images_links = []\n",
    "    product_titles = []\n",
    "    \n",
    "    # Get images links and products title from the FIRST page\n",
    "    product_images_path = browser.find_elements(By.XPATH, \"//img[contains(@src,'.jpg')]\")\n",
    "    \n",
    "    for product in product_images_path:\n",
    "        img_src = product.get_attribute(\"src\")\n",
    "        title_desc = product.get_attribute(\"alt\")\n",
    "        \n",
    "        product_images_links.append(img_src)\n",
    "        product_titles.append(title_desc)\n",
    "        # Problem: How to save only unique values by link\n",
    "        \n",
    "    # Get images links and products title from the NEXT pages\n",
    "    for i in range(2, 4):\n",
    "        time.sleep(10)\n",
    "        browser.execute_script(\"window.scrollTo(0, document.body.scrollHeight);\")\n",
    "        next_page = WebDriverWait(browser, 10).until(EC.presence_of_element_located((By.XPATH, f\"//a[contains(@href, 'Page={i}')]\")))\n",
    "        next_page.click() # click to the next page\n",
    "        \n",
    "        time.sleep(5)\n",
    "            \n",
    "        product_images_path = browser.find_elements(By.XPATH, \"//img[contains(@src,'.jpg')]\")\n",
    "        \n",
    "        for product in product_images_path:\n",
    "            img_src = product.get_attribute(\"src\")\n",
    "            title_desc = product.get_attribute(\"alt\")\n",
    "            \n",
    "            product_images_links.append(img_src)\n",
    "            product_titles.append(title_desc)\n",
    "            \n",
    "    browser.quit()\n",
    "    \n",
    "    return product_images_links, product_titles, category_name\n",
    "\n",
    "\n",
    "electr_pic, electr_title, electronics = get_image_link_and_title(ELECTRONICS, \"Электроника\")\n",
    "appl_pic, appl_title, appliances = get_image_link_and_title(APPLIANCES, \"Бытовая техника\")\n",
    "clothes_pic, clothes_title, clothes = get_image_link_and_title(CLOTHES, \"Одежда\")"
   ]
  },
  {
   "cell_type": "code",
   "execution_count": 3,
   "metadata": {},
   "outputs": [
    {
     "name": "stdout",
     "output_type": "stream",
     "text": [
      "--------------------\n",
      "Number of images (from the first 4 pages) in Электроника:  96\n",
      "\n",
      "Number of titles (from the first 4 pages) in Электроника:  96\n",
      "--------------------\n",
      "Number of images (from the first 4 pages) in Бытовая техника:  96\n",
      "\n",
      "Number of titles (from the first 4 pages) in Бытовая техника:  96\n",
      "--------------------\n",
      "Number of images (from the first 4 pages) in Одежда:  96\n",
      "\n",
      "Number of titles (from the first 4 pages) in Одежда:  96\n"
     ]
    }
   ],
   "source": [
    "print(\"-\"*20)\n",
    "print(f\"Number of images (from the first 3 pages) in {electronics}: \", len(electr_pic))\n",
    "print(f\"\\nNumber of titles (from the first 3 pages) in {electronics}: \", len(electr_title))\n",
    "print(\"-\"*20)\n",
    "print(f\"Number of images (from the first 3 pages) in {appliances}: \", len(appl_pic))\n",
    "print(f\"\\nNumber of titles (from the first 3 pages) in {appliances}: \", len(appl_title))\n",
    "print(\"-\"*20)\n",
    "print(f\"Number of images (from the first 3 pages) in {clothes}: \", len(clothes_pic))\n",
    "print(f\"\\nNumber of titles (from the first 3 pages) in {clothes}: \", len(clothes_title))"
   ]
  },
  {
   "cell_type": "code",
   "execution_count": 4,
   "metadata": {},
   "outputs": [
    {
     "name": "stdout",
     "output_type": "stream",
     "text": [
      "https://image.kazanexpress.ru/ceukg2f4s0ee7tfgh2ug/t_product_540_high.jpg#1702989149619\n",
      "--------------------\n",
      "['Беспроводная машинка для стрижки волос и бороды / триммер']\n"
     ]
    }
   ],
   "source": [
    "\"\"\"\n",
    "Let's check product title and image\n",
    "\"\"\"\n",
    "print(appl_pic[-6])\n",
    "print(\"-\"*20)\n",
    "print(appl_title[-6].split(' - ')[:-1])"
   ]
  },
  {
   "cell_type": "code",
   "execution_count": 5,
   "metadata": {},
   "outputs": [
    {
     "data": {
      "text/plain": [
       "['Увлажнитель воздуха, с подсветкой']"
      ]
     },
     "execution_count": 5,
     "metadata": {},
     "output_type": "execute_result"
    }
   ],
   "source": [
    "# appl_title[-1].split(' - ')[:-1]"
   ]
  },
  {
   "cell_type": "code",
   "execution_count": 5,
   "metadata": {},
   "outputs": [
    {
     "name": "stdout",
     "output_type": "stream",
     "text": [
      "(288, 3)\n",
      "product_id                                   cida0dt8gibs50ful7o0\n",
      "product_name    Портативная Bluetooth-колонка 8210, с караоке ...\n",
      "product_img     https://image.kazanexpress.ru/cida0dt8gibs50fu...\n",
      "Name: 3, dtype: object\n"
     ]
    }
   ],
   "source": [
    "\"\"\"\n",
    "Create dataset with product_id and product_title\n",
    "\"\"\"\n",
    "all_urls = electr_pic + appl_pic + clothes_pic\n",
    "all_titles = electr_title + appl_title + clothes_title\n",
    "\n",
    "new_products = pd.DataFrame(\n",
    "    {'product_id': [u.split(\"/\")[3] for u in all_urls],\n",
    "     'product_name': [title.split(\" - \")[0] for title in all_titles],\n",
    "     'product_img': all_urls,\n",
    "     }\n",
    ")\n",
    "\n",
    "print(new_products.shape)\n",
    "print(new_products.iloc[3])"
   ]
  },
  {
   "cell_type": "code",
   "execution_count": 6,
   "metadata": {},
   "outputs": [
    {
     "name": "stdout",
     "output_type": "stream",
     "text": [
      "\n",
      "Duplicated rows in product_id: \n",
      "\n"
     ]
    },
    {
     "data": {
      "text/html": [
       "<div>\n",
       "<style scoped>\n",
       "    .dataframe tbody tr th:only-of-type {\n",
       "        vertical-align: middle;\n",
       "    }\n",
       "\n",
       "    .dataframe tbody tr th {\n",
       "        vertical-align: top;\n",
       "    }\n",
       "\n",
       "    .dataframe thead th {\n",
       "        text-align: right;\n",
       "    }\n",
       "</style>\n",
       "<table border=\"1\" class=\"dataframe\">\n",
       "  <thead>\n",
       "    <tr style=\"text-align: right;\">\n",
       "      <th></th>\n",
       "      <th>product_id</th>\n",
       "      <th>product_name</th>\n",
       "      <th>product_img</th>\n",
       "    </tr>\n",
       "  </thead>\n",
       "  <tbody>\n",
       "    <tr>\n",
       "      <th>246</th>\n",
       "      <td>c9tsu65irr0d5dvfc1bg</td>\n",
       "      <td>Новогодняя пижама для всей семьм \"Рождество\" П...</td>\n",
       "      <td>https://ke-images.servicecdn.ru/c9tsu65irr0d5d...</td>\n",
       "    </tr>\n",
       "  </tbody>\n",
       "</table>\n",
       "</div>"
      ],
      "text/plain": [
       "               product_id                                       product_name  \\\n",
       "246  c9tsu65irr0d5dvfc1bg  Новогодняя пижама для всей семьм \"Рождество\" П...   \n",
       "\n",
       "                                           product_img  \n",
       "246  https://ke-images.servicecdn.ru/c9tsu65irr0d5d...  "
      ]
     },
     "metadata": {},
     "output_type": "display_data"
    },
    {
     "name": "stdout",
     "output_type": "stream",
     "text": [
      "\n",
      "Number of duplicated rows: 1\n"
     ]
    }
   ],
   "source": [
    "\"\"\"\n",
    "Let`s check to duplicates\n",
    "\"\"\"\n",
    "duplicate = new_products[new_products.duplicated(\"product_id\")]\n",
    "\n",
    "print(\"\\nDuplicated rows in product_id: \\n\")\n",
    "display(duplicate.head(3))\n",
    "print(f\"\\nNumber of duplicated rows: {duplicate.shape[0]}\")"
   ]
  },
  {
   "cell_type": "code",
   "execution_count": 7,
   "metadata": {},
   "outputs": [
    {
     "name": "stdout",
     "output_type": "stream",
     "text": [
      "Total number of rows after deleting duplicates: 287\n"
     ]
    }
   ],
   "source": [
    "\"\"\"\n",
    "Delete duplicates by drop_duplicates() method\n",
    "Create new df vacancies_dedupped - is cleaned from duplicates\n",
    "\"\"\"\n",
    "final_df = new_products.drop_duplicates(subset=[\"product_id\"])\n",
    "print(f\"Total number of rows after deleting duplicates: {final_df.shape[0]}\")"
   ]
  },
  {
   "cell_type": "code",
   "execution_count": 229,
   "metadata": {},
   "outputs": [],
   "source": [
    "# The same product from different sellers has the same code (duplicated code)\n",
    "\n",
    "# test = new_products.product_id.value_counts().reset_index()\n",
    "# test[test['product_id'] > 1]\n",
    "\n",
    "# new_products[new_products[\"product_id\"] == 'ck99r2856gtp4tccdqd0']['product_img']"
   ]
  },
  {
   "cell_type": "code",
   "execution_count": 8,
   "metadata": {},
   "outputs": [],
   "source": [
    "def get_and_save_image_to_file(url, path):\n",
    "   \"\"\"\n",
    "   Save image to Folder from url\n",
    "   \"\"\"\n",
    "   response = requests.get(url)\n",
    "   \n",
    "   with open(path + url.split(\"/\")[3] + \".jpg\", \"wb\") as f:\n",
    "      f.write(response.content)\n",
    "   \n",
    "\n",
    "for image_url in all_urls:\n",
    "   get_and_save_image_to_file(image_url, \"KazanExpress/\")"
   ]
  },
  {
   "cell_type": "code",
   "execution_count": 9,
   "metadata": {},
   "outputs": [
    {
     "data": {
      "text/plain": [
       "product_id                                   cee2ouf4s0e05mr4u3eg\n",
       "product_name    Брюки палаццо, классические, высокая посадка, ...\n",
       "product_img     https://image.kazanexpress.ru/cee2ouf4s0e05mr4...\n",
       "Name: 250, dtype: object"
      ]
     },
     "metadata": {},
     "output_type": "display_data"
    },
    {
     "data": {
      "image/png": "[encoded data removed]",
      "text/plain": [
       "<Figure size 432x288 with 1 Axes>"
      ]
     },
     "metadata": {
      "needs_background": "light"
     },
     "output_type": "display_data"
    }
   ],
   "source": [
    "\"\"\"\n",
    "Let's look at the example: product title and image\n",
    "\"\"\"\n",
    "display(new_products.iloc[250])\n",
    "\n",
    "img = cv2.imread(f\"KazanExpress/{new_products.loc[250].product_id}.jpg\")\n",
    "img_rgb = cv2.cvtColor(img, cv2.COLOR_BGR2RGB)\n",
    "\n",
    "plt.imshow(img_rgb)\n",
    "plt.show()"
   ]
  },
  {
   "cell_type": "markdown",
   "metadata": {},
   "source": [
    "***"
   ]
  }
 ],
 "metadata": {
  "kernelspec": {
   "display_name": "base",
   "language": "python",
   "name": "python3"
  },
  "language_info": {
   "codemirror_mode": {
    "name": "ipython",
    "version": 3
   },
   "file_extension": ".py",
   "mimetype": "text/x-python",
   "name": "python",
   "nbconvert_exporter": "python",
   "pygments_lexer": "ipython3",
   "version": "3.8.8"
  }
 },
 "nbformat": 4,
 "nbformat_minor": 2
}
